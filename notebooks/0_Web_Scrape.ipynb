{
 "cells": [
  {
   "cell_type": "markdown",
   "metadata": {},
   "source": [
    "# This notebook scrapes data from the Daniel Smith website and returns the information for insertion in to the SQL database"
   ]
  },
  {
   "cell_type": "code",
   "execution_count": 1,
   "metadata": {},
   "outputs": [],
   "source": [
    "import requests\n",
    "from bs4 import BeautifulSoup\n",
    "import pandas as pd"
   ]
  },
  {
   "cell_type": "code",
   "execution_count": 2,
   "metadata": {},
   "outputs": [],
   "source": [
    "\n",
    "url = \"http://danielsmith.com/category/wc5ml/page/4\"\n",
    "\n",
    "webpage_response = requests.get(url, \"html.parser\")\n",
    "soup = BeautifulSoup(webpage_response.content, 'xml')"
   ]
  },
  {
   "cell_type": "code",
   "execution_count": 3,
   "metadata": {},
   "outputs": [],
   "source": [
    "#h4 is the tag on the main page that contains the url for the individual paints and the name\n",
    "meta = soup.find_all('h4')"
   ]
  },
  {
   "cell_type": "code",
   "execution_count": 4,
   "metadata": {},
   "outputs": [],
   "source": [
    "colors = []"
   ]
  },
  {
   "cell_type": "code",
   "execution_count": 5,
   "metadata": {},
   "outputs": [
    {
     "name": "stdout",
     "output_type": "stream",
     "text": [
      "Perylene Green\n",
      "http://danielsmith.com/perylene-green-5ml-tube-daniel-smith-extra-fine-watercolor/\n",
      "Undersea Green\n",
      "http://danielsmith.com/undersea-green-5ml-tube-daniel-smith-extra-fine-watercolor/\n",
      "Green Gold\n",
      "http://danielsmith.com/green-gold-5ml-tube-daniel-smith-extra-fine-watercolor/\n",
      "Rich Green Gold\n",
      "http://danielsmith.com/rich-green-gold-5ml-tube-daniel-smith-extra-fine-watercolor/\n",
      "Nickel Azo Yellow\n",
      "http://danielsmith.com/nickel-azo-yellow-5ml-tube-daniel-smith-extra-fine-watercolor/\n",
      "Yellow Ochre\n",
      "http://danielsmith.com/yellow-ochre-5ml-tube-daniel-smith-extra-fine-watercolor/\n",
      "Raw Sienna\n",
      "http://danielsmith.com/raw-sienna-5ml-tube-daniel-smith-extra-fine-watercolor/\n",
      "Quinacridone Gold\n",
      "http://danielsmith.com/quinacridone-gold-5ml-tube-daniel-smith-extra-fine-watercolor/\n",
      "Quinacridone Deep Gold\n",
      "http://danielsmith.com/quinacridone-deep-gold-5ml-tube-daniel-smith-extra-fine-watercolor/\n",
      "Quinacridone Burnt Orange\n",
      "http://danielsmith.com/quinacridone-burnt-orange-5ml-tube-daniel-smith-extra-fine-watercolor/\n",
      "Quinacridone Sienna\n",
      "http://danielsmith.com/quinacridone-sienna-5ml-tube-daniel-smith-extra-fine-watercolor/\n",
      "Quinacridone Burnt Scarlet\n",
      "http://danielsmith.com/quinacridone-burnt-scarlet-5ml-tube-daniel-smith-extra-fine-watercolor/\n",
      "Piemontite Genuine\n",
      "http://danielsmith.com/piemontite-genuine-5ml-tube-daniel-smith-primatek-watercolor/\n",
      "Hematite Genuine\n",
      "http://danielsmith.com/hematite-genuine-5ml-tube-daniel-smith-primatek-watercolor/\n",
      "Burnt Sienna\n",
      "http://danielsmith.com/burnt-sienna-5ml-tube-daniel-smith-extra-fine-watercolor/\n",
      "Burnt Umber\n",
      "http://danielsmith.com/burnt-umber-5ml-tube-daniel-smith-extra-fine-watercolor/\n",
      "Raw Umber\n",
      "http://danielsmith.com/raw-umber-5ml-tube-daniel-smith-extra-fine-watercolor/\n",
      "Sepia\n",
      "http://danielsmith.com/sepia-5ml-tube-daniel-smith-extra-fine-watercolor/\n",
      "Bloodstone Genuine\n",
      "http://danielsmith.com/bloodstone-genuine-5ml-tube-daniel-smith-primatek-watercolor/\n",
      "Neutral Tint\n",
      "http://danielsmith.com/neutral-tint-5ml-tube-daniel-smith-extra-fine-watercolor/\n",
      "Payne’s Gray\n",
      "http://danielsmith.com/paynes-gray-5ml-tube-daniel-smith-extra-fine-watercolor/\n",
      "Lunar Black\n",
      "http://danielsmith.com/lunar-black-5ml-tube-daniel-smith-extra-fine-watercolor/\n",
      "Chinese White\n",
      "http://danielsmith.com/chinese-white-5ml-tube-daniel-smith-extra-fine-watercolor/\n",
      "Titanium White\n",
      "http://danielsmith.com/titanium-white-5ml-tube-daniel-smith-extra-fine-watercolor/\n"
     ]
    }
   ],
   "source": [
    "for i in range(0,len(meta)):\n",
    "    #print(meta[i])\n",
    "    title = meta[i].find('a').string\n",
    "    title_strip = title.split(\"5\")[0].strip()\n",
    "    href = meta[i].find('a').attrs['href']\n",
    "    colors.append([title_strip,href])\n",
    "    print(title_strip)\n",
    "    print(href)"
   ]
  },
  {
   "cell_type": "code",
   "execution_count": 6,
   "metadata": {},
   "outputs": [],
   "source": [
    "#move into dataframe\n",
    "colors_df = pd.DataFrame(colors, columns = ['name','link'])"
   ]
  },
  {
   "cell_type": "code",
   "execution_count": 7,
   "metadata": {},
   "outputs": [],
   "source": [
    "#remove perlecent and irridecent colors\n",
    "extra_fine = colors_df[colors_df['link'].str.contains(\"extra\")]"
   ]
  },
  {
   "cell_type": "code",
   "execution_count": 8,
   "metadata": {},
   "outputs": [],
   "source": [
    "#reset the index\n",
    "extra_fine.reset_index(drop = True, inplace=True)"
   ]
  },
  {
   "cell_type": "code",
   "execution_count": 11,
   "metadata": {},
   "outputs": [],
   "source": [
    "#save only the extra_fine\n",
    "extra_fine.to_csv(\"/Users/macbook/Box/git_hub/Insight_Project_clean/data/extra_fine.csv\")"
   ]
  },
  {
   "cell_type": "code",
   "execution_count": null,
   "metadata": {},
   "outputs": [],
   "source": [
    "#save all colors\n",
    "colors_df.to_csv(\"/Users/macbook/Box/git_hub/Insight_Project_clean/data/color_links.csv\")"
   ]
  },
  {
   "cell_type": "markdown",
   "metadata": {},
   "source": [
    "## Using the links above scrape the image data and pigment information"
   ]
  },
  {
   "cell_type": "code",
   "execution_count": 15,
   "metadata": {},
   "outputs": [],
   "source": [
    "import re"
   ]
  },
  {
   "cell_type": "code",
   "execution_count": 16,
   "metadata": {},
   "outputs": [],
   "source": [
    "pigments = []"
   ]
  },
  {
   "cell_type": "code",
   "execution_count": 17,
   "metadata": {},
   "outputs": [],
   "source": [
    "for i in range(0, len(extra_fine)):\n",
    "    name = extra_fine.name[i]\n",
    "    url = extra_fine.link[i]\n",
    "    #get the url\n",
    "    webpage_response = requests.get(url, \"html.parser\")\n",
    "    soup = BeautifulSoup(webpage_response.content)\n",
    "    #get the image url\n",
    "    meta_image = soup.find(property=\"og:image\")\n",
    "    image_url = meta_image['content']\n",
    "    #get the pigment information\n",
    "    info = soup.find(string=re.compile(\"Pigment\")).string.strip().split(\"|\")[0]\n",
    "    light = soup.find(string=re.compile(\"Lightfastness\")).strip()\n",
    "    trans = soup.find(string=re.compile(\"Transparency\")).strip()\n",
    "    staining = soup.find(string=re.compile(\"Staining\")).strip()\n",
    "    gran = soup.find(string=re.compile(\"Granulating\")).strip()\n",
    "    pig_num = len(info.split(','))\n",
    "    pigments.append([name,url,image_url,info,pig_num,light,trans,staining,gran])\n",
    "    \n",
    "    "
   ]
  },
  {
   "cell_type": "code",
   "execution_count": null,
   "metadata": {},
   "outputs": [],
   "source": [
    "#add information to dataframe and save as csv\n",
    "pigment_complete = pd.DataFrame(pigments, columns = ['name','url','image_url','pigments','pigment_num','lightfastness','transparency','staining','granulation'])\n",
    "pigment_complete.to_csv(\"/Users/macbook/Box/git_hub/Insight_Project_clean/data/pigment_complete.csv\")"
   ]
  },
  {
   "cell_type": "markdown",
   "metadata": {},
   "source": [
    "## Download the images and save to local drive\n"
   ]
  },
  {
   "cell_type": "code",
   "execution_count": 18,
   "metadata": {},
   "outputs": [],
   "source": [
    "pigment = pd.read_csv(\"/Users/macbook/Box/git_hub/Insight_Project_clean/data/pigment_complete.csv\")"
   ]
  },
  {
   "cell_type": "code",
   "execution_count": 19,
   "metadata": {},
   "outputs": [],
   "source": [
    "paths = []"
   ]
  },
  {
   "cell_type": "code",
   "execution_count": null,
   "metadata": {},
   "outputs": [],
   "source": [
    "for i in range(0,len(pigment)):\n",
    "    color_name = pigment.name[i]\n",
    "    #save the files with lower case names and replace spaces with snake syntax\n",
    "    file_path = \"/Users/macbook/Box/insight_project_data/swatches/ds/\" + str(pigment.name[i].translate(str.maketrans({' ':'_', '(':'_',')':'' })).lower()) + \".jpg\"\n",
    "    paths.append([color_name, file_path])"
   ]
  },
  {
   "cell_type": "code",
   "execution_count": null,
   "metadata": {},
   "outputs": [],
   "source": [
    "#Convert to df and save as csv\n",
    "paths_df = pd.DataFrame(paths, columns = [\"name\", \"file_path\"])\n",
    "paths_df.to_csv(\"/Users/macbook/Box/git_hub/Insight_Project_clean/data/paths.csv\")"
   ]
  },
  {
   "cell_type": "code",
   "execution_count": null,
   "metadata": {},
   "outputs": [],
   "source": [
    "#download each image using the modified pigment name \n",
    "for i in range(0, len(pigment)):\n",
    "    filename = str(pigment.name[i].translate(str.maketrans({' ':'_', '(':'_',')':'' })).lower())+\".jpg\"\n",
    "    image_url = pigment.image_url[i]\n",
    "    with open(filename, 'wb') as handle:\n",
    "            response = requests.get(image_url, stream=True)\n",
    "\n",
    "            if not response.ok:\n",
    "                print (response)\n",
    "\n",
    "            for block in response.iter_content(1024):\n",
    "                if not block:\n",
    "                    break\n",
    "\n",
    "                handle.write(block)"
   ]
  },
  {
   "cell_type": "markdown",
   "metadata": {},
   "source": [
    "# Cropping images\n",
    "each image is 400 X 400 \n",
    "bounding box = 210,42,277,202"
   ]
  },
  {
   "cell_type": "code",
   "execution_count": null,
   "metadata": {},
   "outputs": [],
   "source": [
    "crop_path = []"
   ]
  },
  {
   "cell_type": "code",
   "execution_count": 20,
   "metadata": {
    "collapsed": true
   },
   "outputs": [
    {
     "ename": "NameError",
     "evalue": "name 'paths_df' is not defined",
     "output_type": "error",
     "traceback": [
      "\u001b[0;31m---------------------------------------------------------------------------\u001b[0m",
      "\u001b[0;31mNameError\u001b[0m                                 Traceback (most recent call last)",
      "\u001b[0;32m<ipython-input-20-2573291dbfd3>\u001b[0m in \u001b[0;36m<module>\u001b[0;34m\u001b[0m\n\u001b[1;32m      1\u001b[0m \u001b[0;31m#crops each full image and saves a small cropped version\u001b[0m\u001b[0;34m\u001b[0m\u001b[0;34m\u001b[0m\u001b[0;34m\u001b[0m\u001b[0m\n\u001b[0;32m----> 2\u001b[0;31m \u001b[0;32mfor\u001b[0m \u001b[0mi\u001b[0m \u001b[0;32min\u001b[0m \u001b[0mrange\u001b[0m\u001b[0;34m(\u001b[0m\u001b[0;36m0\u001b[0m\u001b[0;34m,\u001b[0m\u001b[0mlen\u001b[0m\u001b[0;34m(\u001b[0m\u001b[0mpaths_df\u001b[0m\u001b[0;34m)\u001b[0m\u001b[0;34m)\u001b[0m\u001b[0;34m:\u001b[0m\u001b[0;34m\u001b[0m\u001b[0;34m\u001b[0m\u001b[0m\n\u001b[0m\u001b[1;32m      3\u001b[0m     \u001b[0mim_path\u001b[0m \u001b[0;34m=\u001b[0m \u001b[0mpaths_df\u001b[0m\u001b[0;34m.\u001b[0m\u001b[0mfile_path\u001b[0m\u001b[0;34m[\u001b[0m\u001b[0mi\u001b[0m\u001b[0;34m]\u001b[0m\u001b[0;34m\u001b[0m\u001b[0;34m\u001b[0m\u001b[0m\n\u001b[1;32m      4\u001b[0m     \u001b[0msave_path\u001b[0m \u001b[0;34m=\u001b[0m \u001b[0;34m\"/Users/macbook/Box/insight_project_data/swatches/ds_cropped/\"\u001b[0m \u001b[0;34m+\u001b[0m \u001b[0mstr\u001b[0m\u001b[0;34m(\u001b[0m\u001b[0mpigment\u001b[0m\u001b[0;34m.\u001b[0m\u001b[0mname\u001b[0m\u001b[0;34m[\u001b[0m\u001b[0mi\u001b[0m\u001b[0;34m]\u001b[0m\u001b[0;34m.\u001b[0m\u001b[0mtranslate\u001b[0m\u001b[0;34m(\u001b[0m\u001b[0mstr\u001b[0m\u001b[0;34m.\u001b[0m\u001b[0mmaketrans\u001b[0m\u001b[0;34m(\u001b[0m\u001b[0;34m{\u001b[0m\u001b[0;34m' '\u001b[0m\u001b[0;34m:\u001b[0m\u001b[0;34m'_'\u001b[0m\u001b[0;34m,\u001b[0m \u001b[0;34m'('\u001b[0m\u001b[0;34m:\u001b[0m\u001b[0;34m'_'\u001b[0m\u001b[0;34m,\u001b[0m\u001b[0;34m')'\u001b[0m\u001b[0;34m:\u001b[0m\u001b[0;34m''\u001b[0m \u001b[0;34m}\u001b[0m\u001b[0;34m)\u001b[0m\u001b[0;34m)\u001b[0m\u001b[0;34m.\u001b[0m\u001b[0mlower\u001b[0m\u001b[0;34m(\u001b[0m\u001b[0;34m)\u001b[0m\u001b[0;34m)\u001b[0m \u001b[0;34m+\u001b[0m \u001b[0;34m\"_crop.jpg\"\u001b[0m\u001b[0;34m\u001b[0m\u001b[0;34m\u001b[0m\u001b[0m\n\u001b[1;32m      5\u001b[0m     \u001b[0mpaths\u001b[0m\u001b[0;34m.\u001b[0m\u001b[0mappend\u001b[0m\u001b[0;34m(\u001b[0m\u001b[0;34m[\u001b[0m\u001b[0mcolor_name\u001b[0m\u001b[0;34m,\u001b[0m \u001b[0mfile_path\u001b[0m\u001b[0;34m]\u001b[0m\u001b[0;34m)\u001b[0m\u001b[0;34m\u001b[0m\u001b[0;34m\u001b[0m\u001b[0m\n",
      "\u001b[0;31mNameError\u001b[0m: name 'paths_df' is not defined"
     ]
    }
   ],
   "source": [
    "#crops each full image and saves a small cropped version\n",
    "for i in range(0,len(paths_df)):\n",
    "    im_path = paths_df.file_path[i]\n",
    "    save_path = \"/Users/macbook/Box/insight_project_data/swatches/ds_cropped/\" + str(pigment.name[i].translate(str.maketrans({' ':'_', '(':'_',')':'' })).lower()) + \"_crop.jpg\"\n",
    "    paths.append([color_name, file_path])\n",
    "    im = Image.open(im_path).crop((215,42,277,150))\n",
    "    im.save(save_path)\n",
    "    crop_path.append(save_path)"
   ]
  },
  {
   "cell_type": "code",
   "execution_count": null,
   "metadata": {},
   "outputs": [],
   "source": [
    "#append the path to the cropped image to the larger df and save as csv\n",
    "paths_df[\"crop_path\"] = crop_path\n",
    "paths_df.to_csv(\"/Users/macbook/Box/git_hub/Insight_Project_clean/data/paths_df.csv\")"
   ]
  },
  {
   "cell_type": "code",
   "execution_count": null,
   "metadata": {},
   "outputs": [],
   "source": [
    "#for each color generate a numberic label to be used in clustering later on and to be used to connect clustered colors to SQL\n",
    "paths_df['label'] = [x+1 for x in range(0,len(paths_df))]"
   ]
  },
  {
   "cell_type": "code",
   "execution_count": null,
   "metadata": {},
   "outputs": [],
   "source": [
    "paths_df.to_csv(\"/Users/macbook/Box/git_hub/Insight_Project_clean/data/paths_df.csv\")"
   ]
  },
  {
   "cell_type": "markdown",
   "metadata": {},
   "source": []
  }
 ],
 "metadata": {
  "kernelspec": {
   "display_name": "Python 3",
   "language": "python",
   "name": "python3"
  },
  "language_info": {
   "codemirror_mode": {
    "name": "ipython",
    "version": 3
   },
   "file_extension": ".py",
   "mimetype": "text/x-python",
   "name": "python",
   "nbconvert_exporter": "python",
   "pygments_lexer": "ipython3",
   "version": "3.7.7"
  }
 },
 "nbformat": 4,
 "nbformat_minor": 4
}
